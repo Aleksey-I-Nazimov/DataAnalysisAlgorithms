{
 "cells": [
  {
   "cell_type": "markdown",
   "id": "aba46e1a",
   "metadata": {},
   "source": [
    "1. Можно ли отобрать наиболее значимые признаки из имеющихся с помощью PCA? Ответ объясните.\n",
    "2. Написать свою реализацию метода главных компонент с помощью сингулярного разложения с использованием функции numpy.linalg.svd(). Применить к данным на уроке и сравнить ответы.\n",
    "3. Обучить любую модель классификации (из рассмотренных в курсе) на датасете IRIS до применения PCA и после него. Сравнить качество классификации по отложенной выборке."
   ]
  },
  {
   "cell_type": "markdown",
   "id": "a350b0fa",
   "metadata": {},
   "source": [
    "<b>Ответ 1</b>. Вопрос про значимые признаки содержит расплывчатую формулировку \"значимые\". Если под значимыми признаками понимаются те, которые вносят наибольший вклад в показатели дисперсии, то да. Собственные вектора - это ортогональные направления, вдоль которых дисперсия максимальна или \"значима\". Собственные вектора связаны с собственными значениями. Собственные значения убывающие, а значит и степень растяжения или сжатия также убывает. Следовательно отобрав несколько первых векторов можно сжимать исходное пространство, понижая его размерность при разложении по первым собственным векторам. В <a href=\"https://www.sgu.ru/sites/default/files/dissertation/2014/12/25/nazimov_thesis.pdf\">[работе]</a> мною показано, как этот эффект проявляется при решении задачи классификации фрагментов сигналов, а также хорошо изучены свойства внутренней фильтрации для АГК."
   ]
  },
  {
   "cell_type": "markdown",
   "id": "caba54cc",
   "metadata": {},
   "source": [
    "<b>Ответ 2 и 3</b>"
   ]
  },
  {
   "cell_type": "markdown",
   "id": "bb9e89bf",
   "metadata": {},
   "source": [
    "Сделаем разложение на основе АГК:"
   ]
  },
  {
   "cell_type": "code",
   "execution_count": 210,
   "id": "247dbea9",
   "metadata": {},
   "outputs": [],
   "source": [
    "import numpy as np\n",
    "import math\n",
    "import random\n",
    "\n",
    "from matplotlib.colors import ListedColormap\n",
    "from sklearn import linear_model, datasets\n",
    "\n",
    "from sklearn.model_selection import train_test_split\n",
    "from sklearn.datasets import load_iris\n",
    "\n",
    "# Plotter:---------------------------------------------------------\n",
    "import matplotlib.pyplot as plt\n",
    "\n",
    "%matplotlib inline\n",
    "from pylab import rcParams\n",
    "rcParams['figure.figsize'] = 10,5\n",
    "#--------------(plotter)-------------------------------------------\n",
    "\n"
   ]
  },
  {
   "cell_type": "code",
   "execution_count": 211,
   "id": "6e17b120",
   "metadata": {},
   "outputs": [
    {
     "name": "stdout",
     "output_type": "stream",
     "text": [
      "(150, 4)\n"
     ]
    }
   ],
   "source": [
    "# Loading data:----------------------------------------------------\n",
    "X,Y = datasets.load_iris(return_X_y=True)\n",
    "print (X.shape)"
   ]
  },
  {
   "cell_type": "code",
   "execution_count": 212,
   "id": "1eafcfff",
   "metadata": {},
   "outputs": [],
   "source": [
    "LOG_ENABLED=True;\n",
    "\n",
    "def log (message) :\n",
    "    if LOG_ENABLED:\n",
    "        print (message);\n",
    "\n",
    "\n",
    "class Pca:\n",
    "    \n",
    "    def __init__(self):\n",
    "        self.cov_matrix = None;\n",
    "        self.cov_matrix_eigen_values = None;\n",
    "        self.cov_matrix_eigen_vectors = None;\n",
    "    \n",
    "    def fit (self,x_matrix):\n",
    "        \n",
    "        self.cov_matrix = x_matrix.T @ x_matrix;\n",
    "        U,d,Vt = np.linalg.svd(covariance_matrix);\n",
    "        self.cov_matrix_eigen_values = d;\n",
    "        self.cov_matrix_eigen_vectors = Vt;\n",
    "        \n",
    "        log(\"  --> Covariance_matrix:\\n{}\".format(self.cov_matrix));\n",
    "        log(\"  --> Eigen vectors:\\n{}\".format(self.cov_matrix_eigen_vectors));\n",
    "        log(\"  --> Eigen values:\\n{}\".format(self.cov_matrix_eigen_values));\n",
    "        return self;\n",
    "    \n",
    "    def transform (self,x_matrix,n_first_principal_components=None):\n",
    "        results = x_matrix @ self.cov_matrix_eigen_vectors;\n",
    "        if n_first_principal_components == None:\n",
    "            log(\"  --> All components results:\\n{}\".format(results))\n",
    "            return results;\n",
    "        else :\n",
    "            y=[];\n",
    "            for result in results: y.append(result[0:n_first_principal_components])\n",
    "            log(\"  --> First {} results:\\n{}\".format(n_first_principal_components,y));\n",
    "            return np.array(y)\n",
    "        \n",
    "  "
   ]
  },
  {
   "cell_type": "code",
   "execution_count": 213,
   "id": "7ca49053",
   "metadata": {},
   "outputs": [
    {
     "name": "stdout",
     "output_type": "stream",
     "text": [
      "  --> Covariance_matrix:\n",
      "[[5223.85 2673.43 3483.76 1128.14]\n",
      " [2673.43 1430.4  1674.3   531.89]\n",
      " [3483.76 1674.3  2582.71  869.11]\n",
      " [1128.14  531.89  869.11  302.33]]\n",
      "  --> Eigen vectors:\n",
      "[[-0.75110816 -0.38008617 -0.51300886 -0.16790754]\n",
      " [-0.2841749  -0.5467445   0.70866455  0.34367081]\n",
      " [ 0.50215472 -0.67524332 -0.05916621 -0.53701625]\n",
      " [ 0.32081425 -0.31725607 -0.48074507  0.75187165]]\n",
      "  --> Eigen values:\n",
      "[9.20830507e+03 3.15454317e+02 1.19780429e+01 3.55257020e+00]\n",
      "  --> First 2 results:\n",
      "[array([-4.05808432, -4.86083709]), array([-3.76577524, -4.51144761]), array([-3.72260406, -4.47725494]), array([-3.51864481, -4.51962054]), array([-4.01139099, -4.87750293]), array([-4.18227746, -5.45958495]), array([-3.62203132, -4.64784516]), array([-3.90434054, -4.83567836]), array([-3.36180367, -4.26673007]), array([-3.77605868, -4.60192078]), array([-4.29003628, -5.15173618]), array([-3.70390344, -4.82718546]), array([-3.72274585, -4.44171338]), array([-3.49783818, -4.0490973 ]), array([-4.82637843, -5.265221  ]), array([-4.65012831, -5.71193439]), array([-4.38313935, -5.18948763]), array([-4.0260029, -4.8925627]), array([-4.41127385, -5.48721075]), array([-4.06103989, -5.12411038]), array([-4.10435286, -5.12276149]), array([-4.00054098, -5.10116154]), array([-3.91180962, -4.45537113]), array([-3.75435865, -5.04923801]), array([-3.55325702, -5.02975845]), array([-3.74045511, -4.68450489]), array([-3.78996222, -4.9666539 ]), array([-4.08297966, -4.96637004]), array([-4.10477765, -4.84417126]), array([-3.57195764, -4.67982794]), array([-3.61865097, -4.6631621 ]), array([-4.14062096, -5.05116404]), array([-4.28556603, -5.26269114]), array([-4.55745002, -5.39559271]), array([-3.74397725, -4.63364639]), array([-3.99815198, -4.52375646]), array([-4.40874306, -4.94534723]), array([-3.9683616, -4.8077687]), array([-3.44043663, -4.25388019]), array([-3.97945136, -4.87368697]), array([-4.00110755, -4.78702975]), array([-3.28454359, -3.94089326]), array([-3.49727161, -4.36322909]), array([-3.75421686, -5.08477957]), array([-3.82809658, -5.42593332]), array([-3.658583 , -4.5051646]), array([-4.04290585, -5.15990911]), array([-3.59727777, -4.50677066]), array([-4.21492546, -5.11372756]), array([-3.92613852, -4.71347958]), array([-3.35784966, -8.0279877 ]), array([-2.97553428, -7.69661294]), array([-3.12180899, -8.10207891]), array([-2.35901974, -6.46139246]), array([-2.88675967, -7.58344809]), array([-2.40025146, -7.14840361]), array([-2.79632859, -7.88005305]), array([-2.38452492, -5.72016807]), array([-3.05445082, -7.61267995]), array([-2.2654913 , -6.53026569]), array([-2.24553483, -5.67452755]), array([-2.69379164, -7.19464796]), array([-2.80240061, -6.50158428]), array([-2.59659985, -7.5218868 ]), array([-2.80549739, -6.55735045]), array([-3.25474614, -7.65671441]), array([-2.31781277, -7.28319511]), array([-2.74405095, -6.76646363]), array([-2.54113775, -7.07385121]), array([-2.60534386, -6.47777444]), array([-2.35308951, -7.80431967]), array([-2.95177209, -6.96281642]), array([-2.50063915, -7.5459805 ]), array([-2.63234521, -7.40376114]), array([-3.05487561, -7.33408972]), array([-3.15121783, -7.56403134]), array([-3.0437426, -7.800797 ]), array([-2.82879154, -8.10236277]), array([-2.58983855, -7.38055512]), array([-2.94181548, -6.26863457]), array([-2.55203103, -6.31756704]), array([-2.63432792, -6.2183171 ]), array([-2.78031905, -6.69486618]), array([-2.19962931, -7.70807782]), array([-2.16759114, -7.20717787]), array([-2.69984457, -7.68565298]), array([-3.0720183 , -7.89101301]), array([-2.75904438, -7.03555873]), array([-2.58283751, -6.94964656]), array([-2.41585472, -6.57074136]), array([-2.27549175, -6.86378754]), array([-2.67523281, -7.50903692]), array([-2.70168608, -6.70771606]), array([-2.43121824, -5.70350223]), array([-2.44736957, -6.85314755]), array([-2.63981428, -7.02345391]), array([-2.57931537, -7.00050506]), array([-2.90465398, -7.25807248]), array([-2.68172903, -5.68001236]), array([-2.60111335, -6.87830628]), array([-1.85479462, -9.04339982]), array([-1.9531634 , -7.72723741]), array([-2.54896985, -8.98901865]), array([-2.16655652, -8.33252545]), array([-2.116439  , -8.72516822]), array([-2.57301562, -9.65173206]), array([-1.58578676, -6.80721375]), array([-2.56615638, -9.18528194]), array([-2.25289888, -8.40091078]), array([-2.56582896, -9.61702506]), array([-2.58894514, -8.29839559]), array([-2.30339735, -8.09033778]), array([-2.52449929, -8.60489547]), array([-1.83935165, -7.54408116]), array([-1.82117376, -7.94053989]), array([-2.3171591 , -8.49061245]), array([-2.39541112, -8.3956928 ]), array([ -2.79316946, -10.22638622]), array([-2.31964721, -9.73706709]), array([-2.13983875, -7.33545563]), array([-2.49185129, -8.95075287]), array([-1.89970878, -7.60257157]), array([-2.57315741, -9.6161905 ]), array([-2.46122985, -7.75050622]), array([-2.43421   , -8.86595887]), array([-2.72694445, -9.10872368]), array([-2.464752  , -7.69964772]), array([-2.39626069, -7.83851234]), array([-2.11700557, -8.41103643]), array([-2.83470327, -8.8008749 ]), array([-2.68119922, -9.06529305]), array([ -3.15820037, -10.03637924]), array([-2.08492415, -8.44276204]), array([-2.48546067, -7.84505252]), array([-2.05940812, -7.96558244]), array([-2.83504095, -9.41557023]), array([-2.11615542, -8.79625134]), array([-2.34871779, -8.41235863]), array([-2.37136534, -7.73297939]), array([-2.67824307, -8.63005421]), array([-2.33134622, -8.78426246]), array([-2.76472664, -8.49093242]), array([-1.9531634 , -7.72723741]), array([-2.31630953, -9.04779291]), array([-2.3058843 , -8.99286129]), array([-2.53587204, -8.42776507]), array([-2.32209797, -7.74040726]), array([-2.48189469, -8.25657102]), array([-2.17355698, -8.59146845]), array([-2.14560811, -7.89754377])]\n"
     ]
    },
    {
     "data": {
      "image/png": "[encoded data removed]",
      "text/plain": [
       "<Figure size 720x360 with 1 Axes>"
      ]
     },
     "metadata": {
      "needs_background": "light"
     },
     "output_type": "display_data"
    }
   ],
   "source": [
    "      \n",
    "pca = Pca().fit(x_matrix=X);\n",
    "results = pca.transform(x_matrix=X,n_first_principal_components=2);\n",
    "\n",
    "# Plotting results:------------------------------------------------\n",
    "cmap = ListedColormap(['red', 'green', 'blue'])\n",
    "plt.scatter(results[:,0], results[:,1], c=Y, cmap=cmap);"
   ]
  },
  {
   "cell_type": "markdown",
   "id": "ddc6d75b",
   "metadata": {},
   "source": [
    "Просто построим исходные данные для сравнения\n"
   ]
  },
  {
   "cell_type": "code",
   "execution_count": 214,
   "id": "10902a16",
   "metadata": {},
   "outputs": [
    {
     "data": {
      "image/png": "[encoded data removed]",
      "text/plain": [
       "<Figure size 720x360 with 1 Axes>"
      ]
     },
     "metadata": {
      "needs_background": "light"
     },
     "output_type": "display_data"
    }
   ],
   "source": [
    "cmap = ListedColormap(['red', 'green', 'blue'])\n",
    "plt.scatter(X[:,0], X[:,1], c=Y, cmap=cmap);"
   ]
  },
  {
   "cell_type": "markdown",
   "id": "8698d8a9",
   "metadata": {},
   "source": [
    "Видно, что синий и зеленые объекты классов стали более дистанцированы друг от друга в первом случае по сравнению со вторым. АГК способен решать задачи классификации более качественно в сравнении с упрощенными кластерными подходами в особенности, когда речь идет о зашумленных данных. Чем шире спект фонового шума, тем эффективнее работает АГК."
   ]
  },
  {
   "cell_type": "code",
   "execution_count": 215,
   "id": "f95ae4a7",
   "metadata": {},
   "outputs": [
    {
     "data": {
      "image/png": "[encoded data removed]",
      "text/plain": [
       "<Figure size 720x360 with 1 Axes>"
      ]
     },
     "metadata": {
      "needs_background": "light"
     },
     "output_type": "display_data"
    }
   ],
   "source": [
    "from sklearn.decomposition import PCA\n",
    "\n",
    "pca = PCA(n_components=2);\n",
    "pca.fit(X);\n",
    "results = pca.transform(X)\n",
    "\n",
    "# Plotting results:------------------------------------------------\n",
    "cmap = ListedColormap(['red', 'green', 'blue'])\n",
    "plt.scatter(results[:,0], results[:,1], c=Y, cmap=cmap);"
   ]
  },
  {
   "cell_type": "markdown",
   "id": "b52b5447",
   "metadata": {},
   "source": [
    "Стандартный анализ главных компонент дает схожую картину по разделению классов. Хорошо диффенцированный \"красный\" и относительно неплохо ограниченные \"зеленый\" и \"синий\" классы"
   ]
  },
  {
   "cell_type": "markdown",
   "id": "6e9d1b16",
   "metadata": {},
   "source": [
    "Ответ 3"
   ]
  },
  {
   "cell_type": "code",
   "execution_count": 216,
   "id": "969699f4",
   "metadata": {},
   "outputs": [],
   "source": [
    "# Special for the task 5:----------------------------------------------------------------------\n",
    "LOG_ENABLED=True;\n",
    "\n",
    "def log (message) :\n",
    "    if LOG_ENABLED:\n",
    "        print (message);\n",
    "#------------------(Special for the task 5):----------------------------------------------------\n",
    "\n",
    "\n",
    "def max_min (any_array) : \n",
    "    max = np.amax(any_array)\n",
    "    min = np.amin(any_array)\n",
    "    return max,min\n",
    "\n",
    "\n",
    "def split_by_value(X,threshold,target_column_index,Y):\n",
    "    Qv,Qp = X.shape;\n",
    "    left_x=[]; left_y=[]; right_x=[]; right_y=[];\n",
    "    for j in range(0,Qv):\n",
    "        if X[j][target_column_index]>=threshold :\n",
    "            right_x.append(X[j]);\n",
    "            right_y.append(Y[j]);\n",
    "        else:\n",
    "            left_x.append(X[j]);\n",
    "            left_y.append(Y[j]);\n",
    "    return np.array(left_x),np.array(right_x),np.array(left_y),np.array(right_y);\n",
    "\n",
    "\n",
    "def sort_classes(y_vector):\n",
    "    class_map = {};\n",
    "    for element in y_vector:\n",
    "        if element not in class_map: class_map[element] = []\n",
    "        class_map[element].append(element);\n",
    "    lengths = []\n",
    "    for class_key in class_map: lengths.append(len(class_map[class_key]));\n",
    "    return np.array(lengths);\n",
    "\n",
    "def calculate_results(y_vector):\n",
    "    class_map = {};\n",
    "    for element in y_vector:\n",
    "        if element not in class_map: class_map[element] = 0;\n",
    "        class_map[element] = class_map[element]+1\n",
    "    number=0;cnt=-1;\n",
    "    for key in class_map:\n",
    "        if cnt<class_map[key]:\n",
    "            number = key;\n",
    "            cnt=class_map[key];\n",
    "    return number;\n",
    "\n",
    "    \n",
    "class GiniIndex:\n",
    "    \n",
    "    def calculate (self,y_vector) :\n",
    "        P = sort_classes(y_vector)/len(y_vector);\n",
    "        xtr=0.0;\n",
    "        for p_k in P: xtr+=p_k*(1-p_k);\n",
    "        return xtr;\n",
    "\n",
    "    \n",
    "class ShenonIndex:\n",
    "    \n",
    "    def calculate (self,y_vector) :\n",
    "        P = sort_classes(y_vector)/len(y_vector);\n",
    "        xtr=0.0;\n",
    "        for p_k in P: xtr-=p_k*self.log2(p_k);\n",
    "        return xtr;\n",
    "    \n",
    "    def log2 (self,x_scalar):\n",
    "        x=x_scalar;\n",
    "        if(x_scalar==0): x=0.000000001;\n",
    "        return np.log2(x);\n",
    "\n",
    "    \n",
    "class QualityCalculator:\n",
    "    \n",
    "    def __init__(self,index_calculator):\n",
    "        self.index_calculator = index_calculator;\n",
    "        \n",
    "    def calculate(self,y_left,y_right,y_overall):\n",
    "        overall = 1.0*len(y_overall);\n",
    "        left = len(y_left);\n",
    "        right = len(y_right);\n",
    "        q_left = self.index_calculator.calculate(y_left);\n",
    "        q_right = self.index_calculator.calculate(y_right);\n",
    "        quality = self.index_calculator.calculate(y_overall) - q_left*left/overall - q_right*right/overall;\n",
    "        if left==0 or right==0:\n",
    "            log(\"   --> Empty q={} l={} r={}\".format(quality,q_left,q_right))\n",
    "        return quality,q_left,q_right;\n",
    "\n",
    "\n",
    "class Node :\n",
    "    def __init__(self):\n",
    "        self.prop_threshold = None;\n",
    "        self.prop_index = None;\n",
    "        self.left = None;\n",
    "        self.right = None;\n",
    "        self.values= None;\n",
    "        \n",
    "    def is_leaf(self) :\n",
    "        return self.values is not None;\n",
    "    \n",
    "    def get_prediction(self,threshold_function) :\n",
    "        #avg = np.average(self.values);\n",
    "        avg = calculate_results(self.values);\n",
    "        if threshold_function is not None:\n",
    "            avg = threshold_function(avg);\n",
    "        #log(\"   --> Prediction {} from {}\".format(avg,self));\n",
    "        return avg;\n",
    "    \n",
    "    def select_right_left(self,x_vector) :\n",
    "        if x_vector[self.prop_index]>=self.prop_threshold:\n",
    "            return self.right;\n",
    "        else:\n",
    "            return self.left;\n",
    "        \n",
    "    def __str__(self):\n",
    "        return \"<<Node: t={},i={},left={},right={},values={}>>\".format(self.prop_threshold,\n",
    "                                                                   self.prop_index,self.left,self.right,self.values);\n",
    "        \n",
    "    \n",
    "class GridElement:\n",
    "    \n",
    "    def __init__(self,index,threshold,permitted) :\n",
    "        self.prop_index = index;\n",
    "        self.prop_threshold = threshold;\n",
    "        self.permitted = permitted;\n",
    "        self.quality_value = 0.0;\n",
    "        self.prop_left_values = [];\n",
    "        self.prop_right_values = [];\n",
    "        self.target_left_values = [];\n",
    "        self.target_right_values = [];\n",
    "        self.not_splitted=False;\n",
    "        \n",
    "    def __str__(self):\n",
    "        return \"GridElement: index={}, treshold={}, quality={}, permitted={}\".format(self.prop_index,self.prop_threshold,\n",
    "                                                                                     self.quality_value,\n",
    "                                                                                    self.permitted);\n",
    "\n",
    "\n",
    "# Special for the task 5:----------------------------------------------------------------------\n",
    "# The special function for building randomized grid.    \n",
    "def make_randomized_property_matrix_indexes(property_matrix):\n",
    "    Qv,Qp = property_matrix.shape;\n",
    "    \n",
    "    matrix_columns = list(range(0,Qp));\n",
    "    matrix_limit = int(np.round(np.sqrt(Qp)));\n",
    "    matrix_limit = 1 if matrix_limit<=0 else matrix_limit;\n",
    "    \n",
    "    matrix_indexes = np.random.choice(matrix_columns, size=matrix_limit, replace=False);\n",
    "    return matrix_indexes;\n",
    "\n",
    "#-----------------------(special for the task 5)----------------------------------------------\n",
    "\n",
    "\n",
    "# Special for the task 5:---------------------------------------------------------------------\n",
    "def make_grid_elements (grid_size,property_matrix,random_option=False):\n",
    "    \n",
    "    Qv,Qp = property_matrix.shape;\n",
    "    grid_elements = [];\n",
    "    permitted_indexes=np.array(range(0,Qp));\n",
    "    \n",
    "    if random_option:\n",
    "        permitted_indexes = make_randomized_property_matrix_indexes(property_matrix);\n",
    "        \n",
    "    log(\"   --> Permitted indexes={}\".format(permitted_indexes));\n",
    "    \n",
    "    for property_index in range (0,Qp):\n",
    "        property_values = [];\n",
    "        for vector_index in range (0,Qv):\n",
    "            property_values.append(property_matrix[vector_index][property_index]);\n",
    "        \n",
    "        max,min = max_min(property_values);\n",
    "        delta = np.abs((max-min)/grid_size);\n",
    "        property_values = np.linspace(min-delta,max+delta, grid_size, endpoint=True);\n",
    "        permitted=property_index in permitted_indexes;\n",
    "        \n",
    "        for property_value in property_values:\n",
    "            grid_elements.append(GridElement(index=property_index,threshold=property_value,permitted=permitted));\n",
    "    \n",
    "    return grid_elements;\n",
    "#---------------------(Special for the task 5)-------------------------------------------------\n",
    "\n",
    "\n",
    "def calculate_grid_quality ( grid_elements, property_matrix, target_values, index_calculator ):\n",
    "    quality_calculator = QualityCalculator(index_calculator);\n",
    "    for grid_element in grid_elements:\n",
    "        if grid_element.permitted:\n",
    "            lx,rx,ly,ry=split_by_value( X=property_matrix, target_column_index=grid_element.prop_index,\n",
    "                                   threshold=grid_element.prop_threshold, Y=target_values );\n",
    "            q,ql,qr= quality_calculator.calculate( ly, ry, target_values );\n",
    "            grid_element.quality_value = q;\n",
    "            grid_element.target_left_values = ly;\n",
    "            grid_element.target_right_values = ry;\n",
    "            grid_element.prop_left_values = lx;\n",
    "            grid_element.prop_right_values = rx;\n",
    "            grid_element.not_splitted = (ql==0.0 and qr==0.0 and q==0.0);\n",
    "    return grid_elements;\n",
    "\n",
    "\n",
    "class RecursiveDepthCnt:\n",
    "    def __init__(self):\n",
    "        self.depth_map = {};\n",
    "        \n",
    "    def count_depth (self,prev_depth,element):\n",
    "        if prev_depth not in self.depth_map:self.depth_map[prev_depth]=[];\n",
    "        self.depth_map[prev_depth].append(element);\n",
    "        prev_depth=prev_depth+1;\n",
    "        return prev_depth;\n",
    "\n",
    "class TreeBuildController:\n",
    "    \n",
    "    def __init__(self, single_class_per_leaf=True, max_depth=None, min_leaf_value_num=None):\n",
    "        self.single_class_per_leaf = single_class_per_leaf;\n",
    "        self.max_depth = max_depth;\n",
    "        self.min_leaf_value_num = min_leaf_value_num;\n",
    "        self.prop_limit = 2;\n",
    "    \n",
    "    def stop_splitting (self,prop_matrix,target_values,current_depth):\n",
    "        control_cnt=0;\n",
    "        #print (\"Initial_property_matrix: {}\".format(prop_matrix));\n",
    "        control_cnt+=self.check_prop_matrix(prop_matrix,target_values);\n",
    "        \n",
    "        if self.single_class_per_leaf ==True and self.check_class_per_leaf(target_values):\n",
    "            control_cnt+=1;\n",
    "        if (self.max_depth is not None) and self.check_max_depth(current_depth):\n",
    "            control_cnt+=1;\n",
    "        if (self.min_leaf_value_num is not None) and self.check_leaf_values(target_values):\n",
    "            control_cnt+=1;\n",
    "        if control_cnt==0: log(\"   --> Splitting is going to be continued\");\n",
    "        else: log(\"   --> Stop split control={}\".format(control_cnt));\n",
    "        return control_cnt>=1;\n",
    "    \n",
    "    def check_prop_matrix (self,prop_matrix,target_values):\n",
    "        if len(prop_matrix.shape)==2:\n",
    "            Qv,Qp = prop_matrix.shape;\n",
    "            if Qv<self.prop_limit:\n",
    "                log(\"       >> TBC: hard_learn_values: {}\".format(prop_matrix))\n",
    "                return 1;\n",
    "            else:\n",
    "                return 0;\n",
    "        else:\n",
    "            log(\"       >> TBC: strange case: {} {}\".format(prop_matrix,target_values))\n",
    "            return 1;\n",
    "        \n",
    "    def check_class_per_leaf (self,target_values):\n",
    "        class_array_lengths=sort_classes(target_values);\n",
    "        if class_array_lengths.shape[0]>1:\n",
    "            return False;\n",
    "        else:\n",
    "            log(\"       >> TBC: single_target: {}\".format(target_values))\n",
    "            return True;\n",
    "    \n",
    "    def check_max_depth (self, depth):\n",
    "        if depth<self.max_depth:\n",
    "            return False;\n",
    "        else :\n",
    "            log(\"       >> TBC: max_depth_achieve: {}\".format(depth))\n",
    "            return True;\n",
    "        \n",
    "    def check_leaf_values (self, target_values):\n",
    "        if len(target_values)>=self.min_leaf_value_num:\n",
    "            return False;\n",
    "        else :\n",
    "            log(\"       >> TBC: min_leaf_values: {}\".format(target_values))\n",
    "            return True;\n",
    "\n",
    "class TreeFactory:\n",
    "    def __init__(self,grid_size,index_calculator,controller):\n",
    "        self.grid_size = grid_size;\n",
    "        self.index_calculator = index_calculator;\n",
    "        self.controller = controller;\n",
    "    \n",
    "    def make (self, property_matrix,target_values,random_option=False) :\n",
    "        depth_cnt = RecursiveDepthCnt();\n",
    "        return self.make_tree(property_matrix,target_values,depth_cnt,0,random_option);\n",
    "    \n",
    "    #\n",
    "    # The method makes the tree and returns the main ROOT.\n",
    "    # The tree is built according to the self.controller criteria\n",
    "    # The quality is used to optimize the threshold and index search\n",
    "    #\n",
    "    def make_tree (self, property_matrix, target_values, depth_cnt, depth, random_option):\n",
    "       \n",
    "        if self.controller.stop_splitting(property_matrix,target_values,depth):\n",
    "            return self.make_leaf(target_values);\n",
    "        else :\n",
    "            grid_elements = make_grid_elements( self.grid_size, property_matrix, random_option);\n",
    "            grid_elements = calculate_grid_quality(grid_elements, property_matrix, target_values, self.index_calculator);\n",
    "            best = sorted(grid_elements, reverse=True, key=lambda e : e.quality_value)[0];\n",
    "            if best.not_splitted==True:\n",
    "                log(\"   --> Not splitted case: x={},y={}\".format(property_matrix,target_values));\n",
    "                return self.make_leaf(target_values);\n",
    "            \n",
    "            new_depth = depth_cnt.count_depth(depth,best.quality_value);\n",
    "            log(\"   --> Selected grid element: {} {}->{}\".format(best,depth,new_depth));\n",
    "            \n",
    "            local_root = self.make_root_node(best);\n",
    "            local_root.left = self.make_tree(best.prop_left_values, best.target_left_values,\n",
    "                                             depth_cnt, new_depth, random_option);\n",
    "            local_root.right = self.make_tree(best.prop_right_values, best.target_right_values,\n",
    "                                              depth_cnt, new_depth, random_option);\n",
    "            return local_root;\n",
    "\n",
    "    def make_root_node (self,grid_element):\n",
    "        node = Node();\n",
    "        node.prop_threshold = grid_element.prop_threshold;\n",
    "        node.prop_index = grid_element.prop_index;\n",
    "        log (\"   --> Made node = {}\".format(node));\n",
    "        return node;\n",
    "    \n",
    "    def make_leaf (self,target_values):\n",
    "        node = Node();\n",
    "        node.values = target_values;\n",
    "        log (\"   --> Made leaf = {}\".format(node));\n",
    "        return node;\n",
    "        \n",
    "class Tree:\n",
    "    def __init__(self,name=\"unique\"):\n",
    "        self.root_node = None;\n",
    "        self.name = name;\n",
    "        \n",
    "    def fit(self,X,Y,grid_size=100,index_calculator=GiniIndex(),controller=TreeBuildController(),random_option=False):\n",
    "        self.root_node= TreeFactory(grid_size=grid_size,\n",
    "                                    index_calculator=index_calculator,\n",
    "                                    controller =controller).make(X,Y,random_option);\n",
    "        return self;\n",
    "    \n",
    "    def predict(self,x,tf=None):\n",
    "        predicted_values=[];\n",
    "        for vector in x: predicted_values.append(self.predict_vector(vector,self.root_node,tf));\n",
    "        return np.array(predicted_values);\n",
    "    \n",
    "    def predict_vector( self, x_vector, any_root_node, threshold_function ):\n",
    "        if any_root_node.is_leaf():\n",
    "            prediction = any_root_node.get_prediction(\n",
    "                self.substitute_threshold_function(threshold_function));\n",
    "            log (\"   --> {} predicted {} from {}\".format(self,prediction,x_vector));\n",
    "            return prediction;\n",
    "        else :\n",
    "            next_node = any_root_node.select_right_left(x_vector);\n",
    "            return self.predict_vector(x_vector,next_node,threshold_function);\n",
    "        \n",
    "    def substitute_threshold_function(self,tf):\n",
    "        if tf==None:\n",
    "            #log(\"       >> Default T-function is active\");\n",
    "            return lambda a: 1 if a>=0.5 else 0\n",
    "        else:\n",
    "            #log(\"       >> Cusmot T-function is active\")\n",
    "            return tf;\n",
    "    \n",
    "    def __str__(self):\n",
    "        return \"Tree: {}\".format(self.name);\n",
    "\n"
   ]
  },
  {
   "cell_type": "code",
   "execution_count": 217,
   "id": "15a6f0dc",
   "metadata": {},
   "outputs": [],
   "source": [
    "def accuracy(pred, y):\n",
    "    return (sum(pred == y) / len(y))"
   ]
  },
  {
   "cell_type": "code",
   "execution_count": 218,
   "id": "a470d933",
   "metadata": {},
   "outputs": [
    {
     "name": "stdout",
     "output_type": "stream",
     "text": [
      "(150, 4)\n",
      "(112, 4)\n",
      "(38, 4)\n"
     ]
    },
    {
     "data": {
      "image/png": "[encoded data removed]",
      "text/plain": [
       "<Figure size 720x360 with 1 Axes>"
      ]
     },
     "metadata": {
      "needs_background": "light"
     },
     "output_type": "display_data"
    }
   ],
   "source": [
    "#X = np.stack((X[:, 0], X[:, 1]),axis=1);\n",
    "x_train, x_test, y_train, y_test = train_test_split(X, Y,\n",
    "                                                    test_size=0.250,\n",
    "                                                    random_state=1,\n",
    "                                                    stratify=Y);\n",
    "print (X.shape)\n",
    "print (x_train.shape)\n",
    "print (x_test.shape)\n",
    "cmap = ListedColormap(['red', 'green', 'blue'])\n",
    "plt.scatter(X[:,0], X[:,1], c=Y, cmap=cmap);\n"
   ]
  },
  {
   "cell_type": "code",
   "execution_count": 219,
   "id": "578bcc9b",
   "metadata": {},
   "outputs": [],
   "source": [
    "LOG_ENABLED=False\n",
    "\n",
    "tree = Tree(\"NEW\").fit(X=x_train,Y=y_train,grid_size=10,\n",
    "                       controller=TreeBuildController(single_class_per_leaf=True,max_depth=2),index_calculator=GiniIndex());\n",
    "new_y_pred = tree.predict(x_test,tf=lambda a:a);\n"
   ]
  },
  {
   "cell_type": "code",
   "execution_count": 220,
   "id": "520c9382",
   "metadata": {},
   "outputs": [],
   "source": [
    "from sklearn.tree import DecisionTreeClassifier\n",
    "\n",
    "clf = DecisionTreeClassifier(random_state=0,max_depth=2,criterion=\"gini\")\n",
    "clf.fit(X=x_train,y=y_train);\n",
    "y_pred = clf.predict(x_test);\n"
   ]
  },
  {
   "cell_type": "code",
   "execution_count": 221,
   "id": "cf17182c",
   "metadata": {},
   "outputs": [
    {
     "name": "stdout",
     "output_type": "stream",
     "text": [
      "Accuracy NEW =1.0\n",
      "Accuracy= SKLEARN 0.9473684210526315\n",
      "new-sklearn:\n",
      "[2 0 0 0 1 0 1 2 0 1 2 2 2 1 2 1 2 1 1 1 1 2 2 1 0 0 0 1 2 0 0 2 1 0 0 1 2\n",
      " 2]\n",
      "[2 0 0 0 1 0 1 1 0 1 2 2 2 1 2 2 2 1 1 1 1 2 2 1 0 0 0 1 2 0 0 2 1 0 0 1 2\n",
      " 2]\n",
      "\n"
     ]
    }
   ],
   "source": [
    "print(\"Accuracy NEW ={}\".format(accuracy(new_y_pred,y_test)));\n",
    "\n",
    "print(\"Accuracy= SKLEARN {}\".format(accuracy(y_pred,y_test)));\n",
    "\n",
    "print (\"new-sklearn:\\n{}\\n{}\\n\".format(new_y_pred,y_pred))"
   ]
  },
  {
   "cell_type": "markdown",
   "id": "c5db4e2a",
   "metadata": {},
   "source": [
    "Можно много играться со страндартным классификатором и sklearn. Для каких-то параметров самописная модель лучше для каких-то sklearn. Здесь главный результат что самописная модель в целом адекватна результатам и приближается к уровню sklearn "
   ]
  },
  {
   "cell_type": "markdown",
   "id": "b0b3dd61",
   "metadata": {},
   "source": [
    "Рассмторим вопрос сужения пространства:"
   ]
  },
  {
   "cell_type": "code",
   "execution_count": 222,
   "id": "e8eecdd3",
   "metadata": {},
   "outputs": [
    {
     "name": "stdout",
     "output_type": "stream",
     "text": [
      "(150, 4)\n",
      "(75, 4)\n",
      "(75, 4)\n"
     ]
    },
    {
     "data": {
      "image/png": "[encoded data removed]",
      "text/plain": [
       "<Figure size 720x360 with 1 Axes>"
      ]
     },
     "metadata": {
      "needs_background": "light"
     },
     "output_type": "display_data"
    }
   ],
   "source": [
    "x_train, x_test, y_train, y_test = train_test_split(X, Y,\n",
    "                                                    test_size=0.500,\n",
    "                                                    random_state=1,\n",
    "                                                    stratify=Y);\n",
    "print (X.shape)\n",
    "print (x_train.shape)\n",
    "print (x_test.shape)\n",
    "cmap = ListedColormap(['red', 'green', 'blue'])\n",
    "plt.scatter(X[:,0], X[:,1], c=Y, cmap=cmap);\n"
   ]
  },
  {
   "cell_type": "code",
   "execution_count": 226,
   "id": "12e0c228",
   "metadata": {},
   "outputs": [
    {
     "name": "stdout",
     "output_type": "stream",
     "text": [
      "Accuracy before PCA =0.9466666666666667\n"
     ]
    }
   ],
   "source": [
    "LOG_ENABLED=False\n",
    "\n",
    "tree = Tree(\"NEW\").fit(X=x_train,Y=y_train,grid_size=10,\n",
    "                       controller=TreeBuildController(single_class_per_leaf=True,max_depth=5),index_calculator=GiniIndex());\n",
    "new_y_pred = tree.predict(x_test,tf=lambda a:a);\n",
    "\n",
    "print(\"Accuracy before PCA ={}\".format(accuracy(new_y_pred,y_test)));"
   ]
  },
  {
   "cell_type": "code",
   "execution_count": 227,
   "id": "e314c2af",
   "metadata": {},
   "outputs": [
    {
     "name": "stdout",
     "output_type": "stream",
     "text": [
      "   --> Before PCA: Train shape (75, 2) test shape (75, 2)\n",
      "   --> After PCA: Train shape (75, 2) test shape (75, 2)\n"
     ]
    }
   ],
   "source": [
    "from sklearn.decomposition import PCA\n",
    "\n",
    "print (\"   --> Before PCA: Train shape {} test shape {}\".format(x_train.shape,x_test.shape))\n",
    "\n",
    "pca = PCA(n_components=2);\n",
    "pca.fit(x_train);\n",
    "x_train = pca.transform(x_train)\n",
    "x_test = pca.transform(x_test)\n",
    "\n",
    "print (\"   --> After PCA: Train shape {} test shape {}\".format(x_train.shape,x_test.shape))"
   ]
  },
  {
   "cell_type": "code",
   "execution_count": 228,
   "id": "8553b348",
   "metadata": {},
   "outputs": [
    {
     "name": "stdout",
     "output_type": "stream",
     "text": [
      "Accuracy after PCA =0.9466666666666667\n"
     ]
    }
   ],
   "source": [
    "LOG_ENABLED=False\n",
    "\n",
    "tree = Tree(\"NEW\").fit(X=x_train,Y=y_train,grid_size=10,\n",
    "                       controller=TreeBuildController(single_class_per_leaf=True,max_depth=5),index_calculator=GiniIndex());\n",
    "new_y_pred = tree.predict(x_test,tf=lambda a:a);\n",
    "\n",
    "print(\"Accuracy after PCA ={}\".format(accuracy(new_y_pred,y_test)));"
   ]
  },
  {
   "cell_type": "markdown",
   "id": "de8c859b",
   "metadata": {},
   "source": [
    "Введение АГК позволило сжать пространство в 2 раза без потери качества классификации. Для данной задачи улучшений результатов от сжатия пронаблюдать не удалось (скорее результат только можно ухудшить засчет сильного сжатия). Но в теории это допустимо, потому что при сжатии проявляются фильтрующие свойства алгоритма и зашумленность исходной выборки снижается. Здесь просто исходные данные не принадлежат к классу задач с высоким содержанием шума или как говорят в радиофизике \"фоновых помех\" или \"фоновых шумов\"."
   ]
  },
  {
   "cell_type": "code",
   "execution_count": null,
   "id": "52992e39",
   "metadata": {},
   "outputs": [],
   "source": []
  },
  {
   "cell_type": "code",
   "execution_count": null,
   "id": "b7ddd490",
   "metadata": {},
   "outputs": [],
   "source": []
  }
 ],
 "metadata": {
  "kernelspec": {
   "display_name": "Python 3 (ipykernel)",
   "language": "python",
   "name": "python3"
  },
  "language_info": {
   "codemirror_mode": {
    "name": "ipython",
    "version": 3
   },
   "file_extension": ".py",
   "mimetype": "text/x-python",
   "name": "python",
   "nbconvert_exporter": "python",
   "pygments_lexer": "ipython3",
   "version": "3.9.12"
  }
 },
 "nbformat": 4,
 "nbformat_minor": 5
}
