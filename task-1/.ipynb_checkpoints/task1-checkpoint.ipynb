{
 "cells": [
  {
   "cell_type": "markdown",
   "id": "a140b278",
   "metadata": {},
   "source": [
    "<b>Задание 1.</b> Проведите небольшое исследование алгоритма градиентного спуска. Оцените влияние значений скорости обучения (eta) и количества итераций на ошибку алгоритма. Как связаны эти два гиперпараметра между собой? Подберите скорость обучения и количество итераций до совпадения ответов алгоритма с результатами МНК. Как можно ускорить процесс вычисления весов?"
   ]
  },
  {
   "cell_type": "code",
   "execution_count": 2,
   "id": "2d429788",
   "metadata": {},
   "outputs": [],
   "source": [
    "import numpy as np\n",
    "import math\n",
    "import random\n",
    "\n",
    "# Plotter:---------------------------------------------------------\n",
    "import matplotlib.pyplot as plt\n",
    "\n",
    "%matplotlib inline\n",
    "from pylab import rcParams\n",
    "rcParams['figure.figsize'] = 10,5\n",
    "#--------------(plotter)-------------------------------------------\n",
    "\n",
    "random.seed(42)\n",
    "np.random.seed(42)\n",
    "\n",
    "\n"
   ]
  },
  {
   "cell_type": "code",
   "execution_count": 3,
   "id": "bdc22018",
   "metadata": {},
   "outputs": [],
   "source": [
    "\n",
    "def max_min (X) : \n",
    "    max = np.amax(X)\n",
    "    min = np.amin(X)\n",
    "    return max,min\n",
    "\n",
    "def calculate_uniform_a_b (mean=0,std_deviation=1) :\n",
    "    c = 3 ** 0.5\n",
    "    a = mean - c*std_deviation\n",
    "    b = mean + c*std_deviation\n",
    "    return a,b\n",
    "\n",
    "def make_random_vector (mean=0,std_deviation=1,coordinate_number = 2, is_normal=True) :\n",
    "    if (is_normal):\n",
    "        return np.random.normal(mean,std_deviation,size=(coordinate_number))\n",
    "    else :\n",
    "        a,b = calculate_uniform_a_b(mean,std_deviation)\n",
    "        return np.random.uniform(a,b,size=(coordinate_number))\n",
    "    \n",
    "def make_random_matrix (mean=0,std_deviation=1,row_number = 2, column_number = 2, is_normal=True) :\n",
    "    if (is_normal):\n",
    "        return np.random.normal(mean,std_deviation,size=(row_number,column_number))\n",
    "    else :\n",
    "        a,b = calculate_uniform_a_b(mean,std_deviation)\n",
    "        return np.random.uniform(a,b,size=(row_number,column_number))\n",
    "    \n",
    "class LinearFunction :\n",
    "    def __init__ (self,weights,threshold) :\n",
    "        self.weights = weights\n",
    "        self.threshold = threshold\n",
    "    \n",
    "    def reset_by_random ( self, weight_number, mean, std_deviation ):\n",
    "        self.weights = make_random_vector( mean, std_deviation, weight_number, is_normal=True )\n",
    "        a,b = calculate_uniform_a_b(mean,std_deviation)\n",
    "        self.threshold = random.uniform(a,b)\n",
    "        return self;\n",
    "    \n",
    "    def calculate (self,x):\n",
    "        return np.dot(x,self.weights)+self.threshold\n",
    "    \n",
    "    def correct(self,dw,etta,dt):\n",
    "        #copied_weights = self.weights.copy();\n",
    "        #copied_treshold = self.threshold+0.0;\n",
    "        self.weights+=dw*etta\n",
    "        self.threshold+=dt*etta\n",
    "        return self;\n",
    "        #return copied_weights,copied_treshold\n",
    "    \n",
    "    def calculate_with_delta(self,x,y):\n",
    "        return self.calculate(x)-y\n",
    "    \n",
    "    def calculate_with_error(self,x,y):\n",
    "        result = self.calculate_with_delta(x,y) ** 2\n",
    "        return result/2\n",
    "    \n",
    "def make_linear_correlated_data (mean,std_deviation,noise_deviation,coordinate_number,data_object_number) :\n",
    "    \n",
    "    linear_function = LinearFunction (None,None).reset_by_random(coordinate_number,mean,std_deviation)\n",
    "    vectors = make_random_matrix(mean,std_deviation,data_object_number,coordinate_number,is_normal=True)\n",
    "    \n",
    "    weighted_vectors = linear_function.calculate(vectors)\n",
    "    noised_weighted_vectors = weighted_vectors + make_random_vector(0,noise_deviation,data_object_number,is_normal=True)\n",
    "    \n",
    "    return noised_weighted_vectors,vectors,linear_function;\n",
    "    \n",
    "\n",
    "#nvs,vs,lf = make_linear_correlated_data(0,3,2,10)\n",
    "#vs\n"
   ]
  },
  {
   "cell_type": "code",
   "execution_count": 128,
   "id": "7d83c1a7",
   "metadata": {},
   "outputs": [
    {
     "name": "stdout",
     "output_type": "stream",
     "text": [
      "1000_e=0.35106306659203296_v=[-2.39904013e-07]__dv1=4.879568446824172e-09___dv2=4.798080256974996e-09__eps=0.016699876379889997\n",
      "2000_e=0.35106312217955477_v=[-8.80458909e-15]__dv1=1.7956366628895371e-16___dv2=1.7609178174511713e-16__eps=0.019335117262807684\n",
      "2051_e=0.35106312217955593_v=[-2.70655802e-15]__dv1=5.413116048914558e-17___dv2=5.413116048914558e-17__eps=0.0\n",
      "max_distance=1.3875330749812569\n"
     ]
    },
    {
     "data": {
      "text/plain": [
       "<matplotlib.collections.PathCollection at 0x289f7ce9370>"
      ]
     },
     "execution_count": 128,
     "metadata": {},
     "output_type": "execute_result"
    },
    {
     "data": {
      "image/png": "[encoded data removed]",
      "text/plain": [
       "<Figure size 720x360 with 1 Axes>"
      ]
     },
     "metadata": {
      "needs_background": "light"
     },
     "output_type": "display_data"
    }
   ],
   "source": [
    "\n",
    "    \n",
    "class LinearRegression :\n",
    "    \n",
    "    def __init__ (self):\n",
    "        self.linear_function = None;\n",
    "    \n",
    "    def fit (self, X,Y,e_min,etta):\n",
    "        self.initialize(X);\n",
    "        \n",
    "        self.adapt(X,Y,e_min,etta);\n",
    "        return self;\n",
    "        \n",
    "    def predict (self,X):\n",
    "        return self.linear_function.calculate(X)\n",
    "        \n",
    "    def initialize (self,X):\n",
    "        max,min = max_min(X)\n",
    "        self.linear_function = LinearFunction(None,None).reset_by_random(X.shape[1],0.0,(max-min)/1000)\n",
    "        return self;\n",
    "        \n",
    "    def adapt (self, X, Y, e_min=0.1,etta=0.00001):\n",
    "        \n",
    "        iteration_cnt = 0\n",
    "        iteration_cnt_max = 10000000\n",
    "        er1=0.0\n",
    "        er2=0.0\n",
    "        \n",
    "        while True:\n",
    "            \n",
    "            dE_dT_scalar = 0.0\n",
    "            dE_dW_vector = np.zeros(X.shape[1])\n",
    "            error_scalar = 0.0\n",
    "            \n",
    "            # Iterating by all objects and accumulate the gradient correction:------\n",
    "            for k in range(0,Y.size):\n",
    "                error_scalar += self.linear_function.calculate_with_error(X[k],Y[k])\n",
    "                dE_dT_scalar += self.linear_function.calculate_with_delta(X[k],Y[k])\n",
    "                dE_dW_vector += X[k]*dE_dT_scalar\n",
    "            #-----------------------------------------------------------------------\n",
    "            \n",
    "            dE_dT_scalar/=Y.size\n",
    "            dE_dW_vector/=Y.size\n",
    "            error_scalar=(error_scalar/Y.size)**0.5\n",
    "            max_distance = abs(np.amax(Y)- np.amin(Y))/5\n",
    "            \n",
    "            self.linear_function.correct(dE_dW_vector,-1*etta,dE_dT_scalar)\n",
    "            er1 = er2;\n",
    "            er2 = np.linalg.norm(dE_dW_vector*etta, ord=2);\n",
    "            eps = abs(er1-er2)/max(er1,er2);\n",
    "            iteration_cnt += 1\n",
    "            if iteration_cnt % 1000==0:\n",
    "                print (\"{}_e={}_v={}__dv1={}___dv2={}__eps={}\".format(iteration_cnt,error_scalar,dE_dW_vector,er1,er2,eps))\n",
    "            if iteration_cnt>=iteration_cnt_max:\n",
    "                print (\"{}_e={}_v={}__dv1={}___dv2={}__eps={}\".format(iteration_cnt,error_scalar,dE_dW_vector,er1,er2,eps))\n",
    "                print (\"  --> The max iteration number was achieved. The end!\")\n",
    "                break\n",
    "            if (eps<e_min and error_scalar<max_distance) or eps==0.0:\n",
    "                print (\"{}_e={}_v={}__dv1={}___dv2={}__eps={}\".format(iteration_cnt,error_scalar,dE_dW_vector,er1,er2,eps))\n",
    "                print (\"max_distance={}\".format(max_distance))\n",
    "                break;\n",
    "                \n",
    "        return self;\n",
    "\n",
    "    \n",
    "Y,X,l = make_linear_correlated_data( mean =0, std_deviation =1.5,noise_deviation=0.5, coordinate_number =1,data_object_number =100)\n",
    "etta = 0.02\n",
    "linear_regression = LinearRegression().fit(X,Y,0.0001,etta)\n",
    "Y_predict = linear_regression.predict(X);\n",
    "\n",
    "plt.scatter(X,Y)\n",
    "plt.scatter(X,Y_predict)\n",
    "    \n",
    "#lf = LinearFunction([1,0],-1);\n",
    "#lf.calculate([[1,0],[0,1]])"
   ]
  },
  {
   "cell_type": "code",
   "execution_count": null,
   "id": "8f5cb61e",
   "metadata": {},
   "outputs": [],
   "source": []
  },
  {
   "cell_type": "markdown",
   "id": "2a8b2754",
   "metadata": {},
   "source": [
    "<b>Задание 2</b> (*) В этом коде мы избавляемся от итераций по весам, но тут есть ошибка, исправьте ее:\n",
    "<br>w = np.array([1, 0.5])\n",
    "<br>for i in range(1001):\n",
    "<br>    y_pred = np.dot(w, X.T)\n",
    "<br>    err = calc_mse(y, y_pred)\n",
    "<br>    w -= (eta * (1/n * 2 * np.sum(X.T * (y_pred - y)))) # ошибка!\n",
    "<br>    if i % 100 == 0:\n",
    "<br>        print(i, w, err)"
   ]
  },
  {
   "cell_type": "markdown",
   "id": "633e49b9",
   "metadata": {},
   "source": [
    "<b>Ответ:</b> np.sum(X.T * (y_pred - y))) - написано суммирование вектора с матрицей, а должно быть умножение транспонированной матрицы на вектор. Это даст необходимое перемножение координат и суммирование по столбцам, что в свою очередь эквивалентно накопленной суммарной ошибке, по образу которой как раз и составлялась исходная формула. В методичке об этом написано коряво, однако при разборе кода это становится очевидно"
   ]
  },
  {
   "cell_type": "markdown",
   "id": "66911846",
   "metadata": {},
   "source": [
    "<b>Задание 3</b>(*). Вместо того, чтобы задавать количество итераций, задайте условие остановки алгоритма - когда ошибка за итерацию начинает изменяться ниже определенного порога. Сколько нужно сделать итераций, если установить допустимое отклонение mse в размере diff=1e-6, а значение eta=1e-2?"
   ]
  },
  {
   "cell_type": "markdown",
   "id": "7a520334",
   "metadata": {},
   "source": [
    "<b>Ответ:</b> Шаг в 0.01 уже является сравнительно большим, а ошибка мала, поэтому возможно два исхода мы либо сразу попадаем в точку минимума и выходим, либо проскакиваем минимум и начинаем блуждание в его окрестности. Правда стоит отметить что для больших шагов возможно не только блуждание но и полная расходимость алгоритма, когда вместо убыли ошибки начинается ее рост вплоть до inf."
   ]
  },
  {
   "cell_type": "code",
   "execution_count": null,
   "id": "35564b33",
   "metadata": {},
   "outputs": [],
   "source": []
  }
 ],
 "metadata": {
  "kernelspec": {
   "display_name": "Python 3 (ipykernel)",
   "language": "python",
   "name": "python3"
  },
  "language_info": {
   "codemirror_mode": {
    "name": "ipython",
    "version": 3
   },
   "file_extension": ".py",
   "mimetype": "text/x-python",
   "name": "python",
   "nbconvert_exporter": "python",
   "pygments_lexer": "ipython3",
   "version": "3.9.12"
  }
 },
 "nbformat": 4,
 "nbformat_minor": 5
}
