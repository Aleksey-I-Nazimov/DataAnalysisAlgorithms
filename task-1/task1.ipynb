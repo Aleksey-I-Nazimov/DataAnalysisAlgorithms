{
 "cells": [
  {
   "cell_type": "markdown",
   "id": "1e1210b5",
   "metadata": {},
   "source": [
    "<b>Задание 1.</b> Проведите небольшое исследование алгоритма градиентного спуска. Оцените влияние значений скорости обучения (eta) и количества итераций на ошибку алгоритма. Как связаны эти два гиперпараметра между собой? Подберите скорость обучения и количество итераций до совпадения ответов алгоритма с результатами МНК. Как можно ускорить процесс вычисления весов?"
   ]
  },
  {
   "cell_type": "code",
   "execution_count": 36,
   "id": "47f0c130",
   "metadata": {},
   "outputs": [],
   "source": [
    "import numpy as np\n",
    "import math\n",
    "import random\n",
    "\n",
    "# Plotter:---------------------------------------------------------\n",
    "import matplotlib.pyplot as plt\n",
    "\n",
    "%matplotlib inline\n",
    "from pylab import rcParams\n",
    "rcParams['figure.figsize'] = 10,5\n",
    "#--------------(plotter)-------------------------------------------\n",
    "\n",
    "random.seed(42)\n",
    "np.random.seed(42)\n",
    "\n",
    "\n"
   ]
  },
  {
   "cell_type": "code",
   "execution_count": 42,
   "id": "ca74a51a",
   "metadata": {},
   "outputs": [
    {
     "data": {
      "text/plain": [
       "array([4.12798725, 4.16126652])"
      ]
     },
     "execution_count": 42,
     "metadata": {},
     "output_type": "execute_result"
    }
   ],
   "source": [
    "\n",
    "def calculate_uniform_a_b (mean=0,std_deviation=1) :\n",
    "    c = 3 ** 0.5\n",
    "    a = mean - c*std_deviation\n",
    "    b = mean + c*std_deviation\n",
    "    return a,b\n",
    "\n",
    "def make_random_vector (mean=0,std_deviation=1,coordinate_number = 2, is_normal=True) :\n",
    "    if (is_normal):\n",
    "        return np.random.normal(mean,std_deviation,size=(coordinate_number))\n",
    "    else :\n",
    "        a,b = calculate_uniform_a_b(mean,std_deviation)\n",
    "        return np.random.uniform(a,b,size=(coordinate_number))\n",
    "    \n",
    "def make_random_matrix (mean=0,std_deviation=1,row_number = 2, column_number = 2, is_normal=True) :\n",
    "    if (is_normal):\n",
    "        return np.random.normal(mean,std_deviation,size=(row_number,column_number))\n",
    "    else :\n",
    "        a,b = calculate_uniform_a_b(mean,std_deviation)\n",
    "        return np.random.uniform(a,b,size=(row_number,column_number))\n",
    "    \n",
    "def make_linear_correlated_data (mean,std_deviation,coordinate_number,data_object_number) :\n",
    "    \n",
    "    a,b = calculate_uniform_a_b(mean,std_deviation)\n",
    "    free_coef = random.uniform(a,b)\n",
    "    \n",
    "    weights = make_random_vector(mean,std_deviation,coordinate_number,is_normal=False)\n",
    "    vectors = make_random_matrix(mean,std_deviation,data_object_number,coordinate_number,is_normal=True)\n",
    "    weighted_vectors = vectors.dot(weights)+free_coef;\n",
    "    noised_weighted_vectors = weighted_vectors + make_random_vector(mean,std_deviation/5,data_object_number,is_normal=True)\n",
    "    \n",
    "    return noised_weighted_vectors,vectors,weights,free_coef;\n",
    "    \n",
    "\n",
    "#nvs,vs,ws,fc = make_linear_correlated_data(0,3,2,10)\n",
    "#ws\n"
   ]
  },
  {
   "cell_type": "code",
   "execution_count": 48,
   "id": "c9e8a673",
   "metadata": {},
   "outputs": [],
   "source": [
    "class LinearFunction :\n",
    "    def __init__ (self,weights,threshold) :\n",
    "        self.weights = weights\n",
    "        self.threshold = threshold\n",
    "    \n",
    "    def calculate (self,x):\n",
    "        return np.dot(x,self.weights)+self.threshold\n",
    "    \n",
    "    def correct(self,dw,etta,dt):\n",
    "        delta = dw*etta\n",
    "        self.weights+=delta\n",
    "        delta = dt*etta\n",
    "        self.threshold+=delta\n",
    "        return self\n",
    "    \n",
    "class LinearRegression :\n",
    "    \n",
    "    def __init__ (self):\n",
    "        self.linear_function = None;\n",
    "    \n",
    "    \n",
    "    def fit (X,Y):\n",
    "        \n",
    "    def initialize (self,X):\n",
    "        max = np.amax(X);\n",
    "        min = np.amin(X);\n",
    "        amp = (max-min)/10;\n",
    "        self.linear_function = LinearFunction(make)\n",
    "        \n",
    "    \n",
    "#lf = LinearFunction([1,0],-1);\n",
    "#lf.calculate([[1,0],[0,1]])"
   ]
  },
  {
   "cell_type": "code",
   "execution_count": null,
   "id": "5db219bb",
   "metadata": {},
   "outputs": [],
   "source": []
  }
 ],
 "metadata": {
  "kernelspec": {
   "display_name": "Python 3 (ipykernel)",
   "language": "python",
   "name": "python3"
  },
  "language_info": {
   "codemirror_mode": {
    "name": "ipython",
    "version": 3
   },
   "file_extension": ".py",
   "mimetype": "text/x-python",
   "name": "python",
   "nbconvert_exporter": "python",
   "pygments_lexer": "ipython3",
   "version": "3.9.12"
  }
 },
 "nbformat": 4,
 "nbformat_minor": 5
}
