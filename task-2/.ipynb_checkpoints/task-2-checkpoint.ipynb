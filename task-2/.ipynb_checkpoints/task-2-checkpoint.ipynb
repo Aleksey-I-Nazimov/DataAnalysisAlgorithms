{
 "cells": [
  {
   "cell_type": "markdown",
   "id": "988f4c7d",
   "metadata": {},
   "source": [
    "<b>Задание.</b> Сгенерировать датасет при помощи <i>sklearn.datasets.make_regression</i> и обучить линейную модель при помощи градиентного спуска и стохастического градиентного спуска. Построить графики среднеквадратичной ошибки (MSE) от числа итераций для обоих методов на одном рисунке, сделать выводы о разнице скорости сходимости каждого из методов."
   ]
  },
  {
   "cell_type": "code",
   "execution_count": 46,
   "id": "40b548b3",
   "metadata": {},
   "outputs": [],
   "source": [
    "import numpy as np\n",
    "import math\n",
    "import random\n",
    "\n",
    "from matplotlib import pyplot as plt\n",
    "from sklearn import linear_model, datasets\n",
    "\n",
    "\n",
    "# Plotter:---------------------------------------------------------\n",
    "import matplotlib.pyplot as plt\n",
    "\n",
    "%matplotlib inline\n",
    "from pylab import rcParams\n",
    "rcParams['figure.figsize'] = 10,5\n",
    "#--------------(plotter)-------------------------------------------\n"
   ]
  },
  {
   "cell_type": "code",
   "execution_count": 64,
   "id": "dde2653c",
   "metadata": {},
   "outputs": [
    {
     "name": "stdout",
     "output_type": "stream",
     "text": [
      "[[42.36547993 64.58941131]\n",
      " [43.75872113 89.17730008]]\n"
     ]
    },
    {
     "data": {
      "text/plain": [
       "(array([[0.97873798, 2.2408932 ],\n",
       "        [1.76405235, 0.40015721]]),\n",
       " array([[139.66736857, 264.50718899],\n",
       "        [ 92.1420731 , 150.03464049]]))"
      ]
     },
     "execution_count": 64,
     "metadata": {},
     "output_type": "execute_result"
    }
   ],
   "source": [
    "\n",
    "\n",
    "\n",
    "# https://scikit-learn.org/stable/modules/generated/sklearn.datasets.make_regression.html\n",
    "# n_samples - the full number of x-points of the one TARGET\n",
    "#             (TARGET -means the set of regression coefficients)\n",
    "# n_features - the dimension of the X-sequence, e.g.: 1-D, 2-D, 3-D and N-D\n",
    "# n_informative -the number of non zero elements\n",
    "# n_targets - the number of unique TARGETS. The one target means the one set regression coefficients\n",
    "# noise - the standard deviation of the gaussian noise applied to the output\n",
    "# coef = (True/False) the switcher of the output coefficients. True -means returning the regression coefficients\n",
    "# random_state - means setting of the random SEED value used for multiple reproducing\n",
    "\n",
    "X, y, coef = datasets.make_regression(\n",
    "    n_samples=2,\n",
    "    n_features=2,\n",
    "    n_informative=2,\n",
    "    n_targets=2,\n",
    "    noise=1,\n",
    "    coef=True,\n",
    "    random_state=0,\n",
    ")\n",
    "\n",
    "print(coef)\n",
    "X,y\n",
    "#plt.scatter(X,y[0])\n",
    "#plt.scatter(X,y[1])\n"
   ]
  },
  {
   "cell_type": "code",
   "execution_count": 73,
   "id": "814fe225",
   "metadata": {},
   "outputs": [],
   "source": [
    "\n",
    "def max_min (X) : \n",
    "    max = np.amax(X)\n",
    "    min = np.amin(X)\n",
    "    return max,min\n",
    "\n",
    "def calculate_uniform_a_b (mean=0,std_deviation=1) :\n",
    "    c = 3 ** 0.5\n",
    "    a = mean - c*std_deviation\n",
    "    b = mean + c*std_deviation\n",
    "    return a,b\n",
    "\n",
    "def make_random_vector (mean=0,std_deviation=1,coordinate_number = 2, is_normal=True) :\n",
    "    if (is_normal):\n",
    "        return np.random.normal(mean,std_deviation,size=(coordinate_number))\n",
    "    else :\n",
    "        a,b = calculate_uniform_a_b(mean,std_deviation)\n",
    "        return np.random.uniform(a,b,size=(coordinate_number))\n",
    "\n",
    "class LinearFunction :\n",
    "    def __init__ (self,weights,threshold) :\n",
    "        self.weights = weights\n",
    "        self.threshold = threshold\n",
    "    \n",
    "    def reset_by_random ( self, weight_number, mean, std_deviation ):\n",
    "        self.weights = make_random_vector( mean, std_deviation, weight_number, is_normal=True )\n",
    "        a,b = calculate_uniform_a_b(mean,std_deviation)\n",
    "        self.threshold = random.uniform(a,b)\n",
    "        return self;\n",
    "    \n",
    "    def calculate (self,x):\n",
    "        return np.dot(x,self.weights)+self.threshold\n",
    "    \n",
    "    def correct(self,dw,etta,dt):\n",
    "        self.weights+=dw*etta\n",
    "        self.threshold+=dt*etta\n",
    "        return self;\n",
    "    \n",
    "    def calculate_with_delta(self,x,y):\n",
    "        return self.calculate(x)-y\n",
    "    \n",
    "    def calculate_with_error(self,x,y):\n",
    "        result = self.calculate_with_delta(x,y) ** 2\n",
    "        return result/2\n",
    "\n",
    "\n",
    "class LinearRegression :\n",
    "    \n",
    "    def __init__ (self):\n",
    "        self.linear_function = None;\n",
    "    \n",
    "    def fit (self, X,Y,e_min,etta,is_random_selected=False,error_list=[]):\n",
    "        self.initialize(X);\n",
    "        self.adapt(X,Y,e_min,etta,is_random_selected,error_list);\n",
    "        return self;\n",
    "        \n",
    "    def predict (self,X):\n",
    "        return self.linear_function.calculate(X)\n",
    "        \n",
    "    def initialize (self,X):\n",
    "        max,min = max_min(X)\n",
    "        self.linear_function = LinearFunction(None,None).reset_by_random(X.shape[1],0.0,(max-min)/1000)\n",
    "        return self;\n",
    "        \n",
    "    def adapt (self, X, Y, e_min=0.1,etta=0.00001,is_random_selected=False,error_list=[]):\n",
    "        \n",
    "        iteration_cnt = 0\n",
    "        iteration_cnt_max = 10000000\n",
    "        er1=0.0\n",
    "        er2=0.0\n",
    "        \n",
    "        while True:\n",
    "            \n",
    "            dE_dW_vector,dE_dT_scalar,error_scalar = self.calculate_delta(X,Y,is_random_selected);\n",
    "            self.linear_function.correct(dE_dW_vector,-1*etta,dE_dT_scalar)\n",
    "\n",
    "            error_list.append(error_scalar)\n",
    "            max_distance = abs(np.amax(Y)- np.amin(Y))/5\n",
    "            er1 = er2;\n",
    "            er2 = np.linalg.norm(dE_dW_vector*etta, ord=2);\n",
    "            eps = abs(er1-er2)/max(er1,er2);\n",
    "            iteration_cnt += 1\n",
    "            if iteration_cnt % 1000==0:\n",
    "                self.log(iteration_cnt,error_scalar,dE_dW_vector,er1,er2,eps,max_distance)\n",
    "            if iteration_cnt>=iteration_cnt_max or (eps<e_min and error_scalar<max_distance) or eps==0.0:\n",
    "                self.log(iteration_cnt,error_scalar,dE_dW_vector,er1,er2,eps,max_distance)\n",
    "                break;\n",
    "                \n",
    "        return self;\n",
    "    \n",
    "    def calculate_delta (self,X,Y,is_random_selected) :\n",
    "        \n",
    "        index_range=None;\n",
    "        \n",
    "        if (is_random_selected):\n",
    "            rand_num = random.randint(0,X.shape[0]-1)\n",
    "            index_range = range(rand_num,rand_num+1);\n",
    "        else :\n",
    "            index_range = range(0,Y.size);\n",
    "            \n",
    "        dE_dT_scalar = 0.0\n",
    "        dE_dW_vector = np.zeros(X.shape[1])\n",
    "        error_scalar = 0.0\n",
    "            \n",
    "        for k in index_range:\n",
    "            error_scalar += self.linear_function.calculate_with_error(X[k],Y[k])\n",
    "            dE_dT_scalar += self.linear_function.calculate_with_delta(X[k],Y[k])\n",
    "            dE_dW_vector += X[k]*dE_dT_scalar\n",
    "            \n",
    "        dE_dW_vector = dE_dW_vector/len(index_range)\n",
    "        dE_dT_scalar = dE_dT_scalar/len(index_range)\n",
    "        error_scalar = (error_scalar/len(index_range)) ** 0.5\n",
    "            \n",
    "        return dE_dW_vector,dE_dT_scalar,error_scalar;\n",
    "        \n",
    "    def log (self,iteration_cnt,error_scalar,dE_dW_vector,er1,er2,eps,max_distance):\n",
    "        print (\"{}_e={}_v={}__dv1={}___dv2={}__eps={}_d={}\".format(iteration_cnt,error_scalar,dE_dW_vector,er1,er2,eps,max_distance))\n",
    "\n"
   ]
  },
  {
   "cell_type": "code",
   "execution_count": 74,
   "id": "906dcfa7",
   "metadata": {},
   "outputs": [],
   "source": [
    "X, Y, coef = datasets.make_regression(\n",
    "    n_samples=100,\n",
    "    n_features=1,\n",
    "    n_informative=1,\n",
    "    n_targets=1,\n",
    "    noise=1,\n",
    "    coef=True,\n",
    "    random_state=0,\n",
    ")\n"
   ]
  },
  {
   "cell_type": "code",
   "execution_count": 75,
   "id": "03993f23",
   "metadata": {},
   "outputs": [
    {
     "name": "stdout",
     "output_type": "stream",
     "text": [
      "1000_e=6.828876936101002_v=[-7.60427915]__dv1=0.015230628627250635___dv2=0.015208558298755503__eps=0.001449075349105614_d=40.99090499115026\n",
      "2000_e=1.376212423315975_v=[-1.67173906]__dv1=0.0033487392065753704___dv2=0.003343478127488938__eps=0.0015710626483251638_d=40.99090499115026\n",
      "3000_e=0.7583354422416233_v=[-0.33040069]__dv1=0.0006619045437092125___dv2=0.0006608013835921113__eps=0.0016666453306381432_d=40.99090499115026\n",
      "4000_e=0.8042860024910313_v=[-0.05955078]__dv1=0.0001193113137585371___dv2=0.00011910156471253763__eps=0.001757997958382754_d=40.99090499115026\n",
      "5000_e=0.8186275262332298_v=[-0.00974276]__dv1=1.952189355786774e-05___dv2=1.9485515098464788e-05__eps=0.0018634698163433377_d=40.99090499115026\n",
      "6000_e=0.8210382699156203_v=[-0.00140681]__dv1=2.819305552431327e-06___dv2=2.813623352231018e-06__eps=0.0020154609334233635_d=40.99090499115026\n",
      "7000_e=0.8213689711861021_v=[-0.00016419]__dv1=3.2913631601990493e-07___dv2=3.283719172079248e-07__eps=0.0023224383781882112_d=40.99090499115026\n",
      "8000_e=0.8214026706899616_v=[-9.97608752e-06]__dv1=2.0028159919066098e-08___dv2=1.995217503409302e-08__eps=0.0037939024493579025_d=40.99090499115026\n",
      "9000_e=0.8214032737400264_v=[2.073965e-06]__dv1=4.147172193173086e-09___dv2=4.147930003037175e-09__eps=0.00018269591423535322_d=40.99090499115026\n",
      "9025_e=0.8214032446931102_v=[2.08110076e-06]__dv1=4.161798613178694e-09___dv2=4.162201528574892e-09__eps=9.680343285442467e-05_d=40.99090499115026\n"
     ]
    },
    {
     "data": {
      "text/plain": [
       "<matplotlib.collections.PathCollection at 0x21fdcab8370>"
      ]
     },
     "execution_count": 75,
     "metadata": {},
     "output_type": "execute_result"
    },
    {
     "data": {
      "image/png": "[encoded data removed]",
      "text/plain": [
       "<Figure size 720x360 with 1 Axes>"
      ]
     },
     "metadata": {
      "needs_background": "light"
     },
     "output_type": "display_data"
    }
   ],
   "source": [
    "error_list_1 = []\n",
    "linear_regression = LinearRegression().fit(X,Y,0.0001,0.002,False,error_list_1)\n",
    "Y_predict = linear_regression.predict(X);\n",
    "\n",
    "plt.scatter(X,Y)\n",
    "plt.scatter(X,Y_predict)"
   ]
  },
  {
   "cell_type": "code",
   "execution_count": 76,
   "id": "dd2f1080",
   "metadata": {},
   "outputs": [
    {
     "name": "stdout",
     "output_type": "stream",
     "text": [
      "1000_e=1.050721301981779_v=[0.07718797]__dv1=0.005354547816463971___dv2=0.0001543759312031791__eps=0.9711691936472191_d=40.99090499115026\n",
      "2000_e=0.9758498749969302_v=[-0.87540263]__dv1=0.0002762303263366654___dv2=0.001750805259674225__eps=0.842226698366177_d=40.99090499115026\n",
      "3000_e=0.6409416329389451_v=[-0.05090986]__dv1=6.818510351333565e-05___dv2=0.00010181971696806744__eps=0.33033497299231573_d=40.99090499115026\n",
      "4000_e=1.1715708933861269_v=[2.4658128]__dv1=0.0005572784431145681___dv2=0.004931625600713854__eps=0.8869990367813197_d=40.99090499115026\n",
      "5000_e=1.0639795609181981_v=[-0.04240564]__dv1=0.0001040200892664816___dv2=8.481127810185075e-05__eps=0.18466443645728062_d=40.99090499115026\n",
      "6000_e=1.1606137076015617_v=[-0.23642673]__dv1=0.00044658675555952083___dv2=0.0004728534575800968__eps=0.055549349591309_d=40.99090499115026\n",
      "7000_e=0.9125794722568347_v=[-0.39014657]__dv1=0.0024860874849441618___dv2=0.0007802931379583204__eps=0.6861360902688242_d=40.99090499115026\n",
      "8000_e=1.294696996029983_v=[0.63701951]__dv1=0.0002742571978655439___dv2=0.0012740390181495663__eps=0.7847340670430336_d=40.99090499115026\n",
      "9000_e=0.2585208861109477_v=[-0.56038982]__dv1=7.991033683717682e-05___dv2=0.0011207796368278677__eps=0.9287011164270024_d=40.99090499115026\n",
      "10000_e=1.6082157502023111_v=[-3.92618901]__dv1=0.000635445272332978___dv2=0.007852378012020832__eps=0.9190760720688427_d=40.99090499115026\n",
      "11000_e=0.6850716470722557_v=[1.44752001]__dv1=0.0017912720941387881___dv2=0.0028950400101855032__eps=0.38126171388422014_d=40.99090499115026\n",
      "12000_e=0.07944309409628841_v=[-0.01700491]__dv1=0.0004648745586003604___dv2=3.4009813682647505e-05__eps=0.9268408798600554_d=40.99090499115026\n",
      "13000_e=0.4711208884385728_v=[0.14174152]__dv1=0.000746320856046772___dv2=0.0002834830395853165__eps=0.6201592957124187_d=40.99090499115026\n",
      "14000_e=0.7951940230088635_v=[-0.14505085]__dv1=0.0012373514601379358___dv2=0.00029010170014907475__eps=0.7655462417147548_d=40.99090499115026\n",
      "15000_e=0.16424946438343077_v=[0.39633896]__dv1=0.0026015191533737122___dv2=0.0007926779161509317__eps=0.695301910376878_d=40.99090499115026\n",
      "16000_e=1.0991527284811615_v=[2.50870204]__dv1=0.0020554631847506657___dv2=0.005017404074831532__eps=0.5903333369019753_d=40.99090499115026\n",
      "17000_e=0.278862005394188_v=[-0.57947165]__dv1=0.0002836277483861401___dv2=0.0011589432999931355__eps=0.7552703843338842_d=40.99090499115026\n",
      "18000_e=0.15151806629357928_v=[0.08299597]__dv1=0.0011818615986770196___dv2=0.0001659919320779827__eps=0.8595504479849461_d=40.99090499115026\n",
      "19000_e=0.24306926190831646_v=[-0.68090244]__dv1=0.00571045071972309___dv2=0.0013618048881213296__eps=0.7615240976657328_d=40.99090499115026\n",
      "20000_e=0.13434128580565347_v=[0.16544037]__dv1=0.00017933714353989244___dv2=0.0003308807433601148__eps=0.4580006629617897_d=40.99090499115026\n",
      "21000_e=0.046051329513332837_v=[0.02173101]__dv1=0.0009126114714709284___dv2=4.346202528072826e-05__eps=0.95237620100186_d=40.99090499115026\n",
      "22000_e=1.0407898606028676_v=[-0.55661709]__dv1=0.000729788403273986___dv2=0.001113234172076593__eps=0.3444430456957129_d=40.99090499115026\n",
      "23000_e=0.5587457932471506_v=[-0.24618441]__dv1=0.00014900927020127636___dv2=0.0004923688227386469__eps=0.6973624987616821_d=40.99090499115026\n",
      "24000_e=0.40166053075214336_v=[-0.87067036]__dv1=0.0002810239928771589___dv2=0.0017413407116022267__eps=0.8386163081097521_d=40.99090499115026\n",
      "25000_e=1.2910520308024582_v=[0.63522611]__dv1=0.00562888649709109___dv2=0.0012704522114033512__eps=0.7742977741583706_d=40.99090499115026\n",
      "26000_e=0.0991593728958732_v=[-0.0212252]__dv1=0.001149229147241238___dv2=4.245040850233416e-05__eps=0.9630618414053995_d=40.99090499115026\n",
      "27000_e=0.20778482983548582_v=[-0.45041043]__dv1=0.00029611837728597996___dv2=0.0009008208567775531__eps=0.6712793947230922_d=40.99090499115026\n",
      "28000_e=1.1332258721864974_v=[-0.2308476]__dv1=0.0013866088027875403___dv2=0.0004616951948551026__eps=0.6670328401731309_d=40.99090499115026\n",
      "29000_e=0.6469944849683807_v=[-1.70879385]__dv1=0.00014437071518442443___dv2=0.003417587702830674__eps=0.9577565441656855_d=40.99090499115026\n",
      "30000_e=0.6455100504347084_v=[1.36392845]__dv1=0.0017590383914709324___dv2=0.0027278569051453387__eps=0.3551573808167875_d=40.99090499115026\n",
      "31000_e=0.1785519120294244_v=[0.21988545]__dv1=0.0011658183608649318___dv2=0.0004397709090423157__eps=0.6227792220427498_d=40.99090499115026\n",
      "32000_e=0.8260345665380417_v=[-0.15067645]__dv1=0.00010588994895752049___dv2=0.00030135290910243527__eps=0.648618129246177_d=40.99090499115026\n",
      "33000_e=0.38677233020008156_v=[0.2200723]__dv1=0.00023580046182262277___dv2=0.00044014459551254613__eps=0.46426591573154646_d=40.99090499115026\n",
      "34000_e=0.2116357581131673_v=[-0.25872416]__dv1=0.0002567320007444108___dv2=0.0005174483264864399__eps=0.5038499737980336_d=40.99090499115026\n",
      "35000_e=0.9496587318878489_v=[-1.02208908]__dv1=0.0013707419298469967___dv2=0.0020441781643478225__eps=0.3294410664618756_d=40.99090499115026\n",
      "36000_e=0.596024976685435_v=[1.01349392]__dv1=0.0032588166848662196___dv2=0.0020269878338211008__eps=0.3779988167992603_d=40.99090499115026\n",
      "37000_e=0.7860271953204993_v=[-0.51443353]__dv1=0.00037787220873430015___dv2=0.0010288670623257751__eps=0.6327298029347812_d=40.99090499115026\n",
      "38000_e=0.25534780481195146_v=[-0.5535116]__dv1=0.0018593396823041082___dv2=0.0011070232051545365__eps=0.4046148664010092_d=40.99090499115026\n",
      "39000_e=1.4321480195817724_v=[1.97804872]__dv1=0.006093652419107385___dv2=0.003956097435805525__eps=0.3507838708685283_d=40.99090499115026\n",
      "40000_e=0.11746318855601476_v=[0.17787132]__dv1=0.003355308999371957___dv2=0.0003557426414898389__eps=0.89397619070064_d=40.99090499115026\n",
      "41000_e=0.997996647445394_v=[1.27140884]__dv1=0.0012658755390912032___dv2=0.0025428176842023876__eps=0.5021760518044086_d=40.99090499115026\n",
      "42000_e=0.09080907747115906_v=[0.0428516]__dv1=0.0017533970540630564___dv2=8.570320254550867e-05__eps=0.9511216228252961_d=40.99090499115026\n",
      "43000_e=0.17472834001651552_v=[0.21517675]__dv1=0.0016902828684722724___dv2=0.00043035350364579105__eps=0.7453955715502476_d=40.99090499115026\n",
      "44000_e=1.1835326347500512_v=[2.70129042]__dv1=0.0014223972719896749___dv2=0.005402580833781538__eps=0.7367189282767163_d=40.99090499115026\n",
      "45000_e=1.1682195560663904_v=[0.08581961]__dv1=0.0016967003720268178___dv2=0.00017163921724758273__eps=0.8988394061335953_d=40.99090499115026\n",
      "46000_e=0.1757968758593257_v=[0.03887059]__dv1=0.0007171832728832114___dv2=7.774118716888594e-05__eps=0.8916020630872332_d=40.99090499115026\n",
      "47000_e=0.9760643533232098_v=[-0.28749517]__dv1=0.00036720364757802877___dv2=0.0005749903329985598__eps=0.3613742240446527_d=40.99090499115026\n",
      "48000_e=0.7460199240135145_v=[-0.42389154]__dv1=0.0012640572631308783___dv2=0.0008477830830506215__eps=0.32931591963579937_d=40.99090499115026\n",
      "48742_e=0.3134996277473948_v=[0.17838035]__dv1=0.0003567658628746326___dv2=0.000356760698928048__eps=1.4474329306533718e-05_d=40.99090499115026\n"
     ]
    },
    {
     "data": {
      "text/plain": [
       "<matplotlib.collections.PathCollection at 0x21fdcc8bc70>"
      ]
     },
     "execution_count": 76,
     "metadata": {},
     "output_type": "execute_result"
    },
    {
     "data": {
      "image/png": "[encoded data removed]",
      "text/plain": [
       "<Figure size 720x360 with 1 Axes>"
      ]
     },
     "metadata": {
      "needs_background": "light"
     },
     "output_type": "display_data"
    }
   ],
   "source": [
    "error_list_2 = []\n",
    "linear_regression = LinearRegression().fit(X,Y,0.0001,0.002,True,error_list_1)\n",
    "Y_predict = linear_regression.predict(X);\n",
    "\n",
    "plt.scatter(X,Y)\n",
    "plt.scatter(X,Y_predict)\n"
   ]
  },
  {
   "cell_type": "code",
   "execution_count": 79,
   "id": "fb3516a8",
   "metadata": {},
   "outputs": [
    {
     "data": {
      "text/plain": [
       "[<matplotlib.lines.Line2D at 0x21fdebaa1c0>]"
      ]
     },
     "execution_count": 79,
     "metadata": {},
     "output_type": "execute_result"
    },
    {
     "data": {
      "image/png": "[encoded data removed]",
      "text/plain": [
       "<Figure size 720x360 with 1 Axes>"
      ]
     },
     "metadata": {
      "needs_background": "light"
     },
     "output_type": "display_data"
    }
   ],
   "source": [
    "plt.plot(range(0,len(error_list_1)),error_list_1)\n",
    "plt.plot(range(0,len(error_list_2)),error_list_2)"
   ]
  },
  {
   "cell_type": "code",
   "execution_count": null,
   "id": "4737238a",
   "metadata": {},
   "outputs": [],
   "source": []
  },
  {
   "cell_type": "code",
   "execution_count": null,
   "id": "8ac54c4c",
   "metadata": {},
   "outputs": [],
   "source": []
  }
 ],
 "metadata": {
  "kernelspec": {
   "display_name": "Python 3 (ipykernel)",
   "language": "python",
   "name": "python3"
  },
  "language_info": {
   "codemirror_mode": {
    "name": "ipython",
    "version": 3
   },
   "file_extension": ".py",
   "mimetype": "text/x-python",
   "name": "python",
   "nbconvert_exporter": "python",
   "pygments_lexer": "ipython3",
   "version": "3.9.12"
  }
 },
 "nbformat": 4,
 "nbformat_minor": 5
}
